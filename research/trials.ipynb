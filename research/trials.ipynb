{
 "cells": [
  {
   "cell_type": "code",
   "execution_count": 1,
   "metadata": {},
   "outputs": [],
   "source": [
    "import gdown"
   ]
  },
  {
   "cell_type": "code",
   "execution_count": 4,
   "metadata": {},
   "outputs": [],
   "source": [
    "import os"
   ]
  },
  {
   "cell_type": "code",
   "execution_count": 5,
   "metadata": {},
   "outputs": [],
   "source": [
    "os.chdir(\"../\")"
   ]
  },
  {
   "cell_type": "code",
   "execution_count": 2,
   "metadata": {},
   "outputs": [],
   "source": [
    "url=\"https://drive.google.com/file/d/1v-o_OdAta0hYbp4m527_v18tAzDBseNO/view?usp=sharing\""
   ]
  },
  {
   "cell_type": "code",
   "execution_count": 7,
   "metadata": {},
   "outputs": [
    {
     "name": "stdout",
     "output_type": "stream",
     "text": [
      "1v-o_OdAta0hYbp4m527_v18tAzDBseNO\n"
     ]
    }
   ],
   "source": [
    "file_id=url.split(\"/\")[-2]\n",
    "print(file_id)\n"
   ]
  },
  {
   "cell_type": "code",
   "execution_count": 8,
   "metadata": {},
   "outputs": [
    {
     "name": "stderr",
     "output_type": "stream",
     "text": [
      "Downloading...\n",
      "From (uriginal): https://drive.google.com/uc?/export=download&id=1v-o_OdAta0hYbp4m527_v18tAzDBseNO\n",
      "From (redirected): https://drive.google.com/uc?/export=download&id=1v-o_OdAta0hYbp4m527_v18tAzDBseNO&confirm=t&uuid=57ffd4c5-c194-4db6-8619-50e9f50b2e5b\n",
      "To: d:\\End-to-end-waste-detection-using-yolov5\\data\\waste_data.zip\n",
      "100%|██████████| 40.1M/40.1M [00:23<00:00, 1.68MB/s]\n"
     ]
    },
    {
     "data": {
      "text/plain": [
       "'data/waste_data.zip'"
      ]
     },
     "execution_count": 8,
     "metadata": {},
     "output_type": "execute_result"
    }
   ],
   "source": [
    "prefix='https://drive.google.com/uc?/export=download&id='\n",
    "gdown.download(prefix+file_id,\"data/waste_data.zip\")"
   ]
  },
  {
   "cell_type": "code",
   "execution_count": null,
   "metadata": {},
   "outputs": [],
   "source": []
  }
 ],
 "metadata": {
  "kernelspec": {
   "display_name": "waste",
   "language": "python",
   "name": "python3"
  },
  "language_info": {
   "codemirror_mode": {
    "name": "ipython",
    "version": 3
   },
   "file_extension": ".py",
   "mimetype": "text/x-python",
   "name": "python",
   "nbconvert_exporter": "python",
   "pygments_lexer": "ipython3",
   "version": "3.9.18"
  }
 },
 "nbformat": 4,
 "nbformat_minor": 2
}
